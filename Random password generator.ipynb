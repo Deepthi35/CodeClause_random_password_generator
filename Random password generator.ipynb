{
 "cells": [
  {
   "cell_type": "markdown",
   "id": "ac02fded",
   "metadata": {},
   "source": [
    "# TASK - 1 RANDOM PASSWORD GENERATOR"
   ]
  },
  {
   "cell_type": "markdown",
   "id": "b388c124",
   "metadata": {},
   "source": [
    "## Random password generator using pytho"
   ]
  },
  {
   "cell_type": "markdown",
   "id": "451f739b",
   "metadata": {},
   "source": [
    "here i assign all the letters,digits and special symbols to the variable \"password\". "
   ]
  },
  {
   "cell_type": "code",
   "execution_count": 2,
   "id": "16218f38",
   "metadata": {},
   "outputs": [
    {
     "name": "stdout",
     "output_type": "stream",
     "text": [
      "enter the length of the password8\n",
      "your password is bzrDf3cG\n"
     ]
    }
   ],
   "source": [
    "import random\n",
    "pwd=\"ABCDEFGHIJKLMNOPQRSTUVWXYZ1234567890abcdefghijklmnopqrstuvwxyz@#$%^&*!\"\n",
    "len_pwd = int(input(\"enter the length of the password\"))\n",
    "a = \"\".join(random.sample(pwd,len_pwd))\n",
    "print(f\"your password is {a}\")"
   ]
  },
  {
   "cell_type": "markdown",
   "id": "242b0a6e",
   "metadata": {},
   "source": [
    "here i assign lowercase letter to \"lower\" variable, uppercase letters to \"upper\" variable,\n",
    "digits to \"digit\" variable and all the punctuations to \"symbol\" variable."
   ]
  },
  {
   "cell_type": "code",
   "execution_count": 4,
   "id": "44c2cee1",
   "metadata": {},
   "outputs": [
    {
     "name": "stdout",
     "output_type": "stream",
     "text": [
      "Enter length of the password8\n",
      "*uP>AiL5\n"
     ]
    }
   ],
   "source": [
    "import string \n",
    "import random\n",
    "\n",
    "length = int(input(\"Enter length of the password\"))\n",
    "lower = string.ascii_lowercase\n",
    "upper = string.ascii_uppercase\n",
    "digit = string.digits\n",
    "symbol = string.punctuation\n",
    "\n",
    "string = lower+upper+digit+symbol\n",
    "\n",
    "#str = string.printable - instead of assigning all the uppercase,lowercase letters,digits and puncations to strings.\n",
    "pwd = random.sample(string,length) #randomly generate letters with respect to length\n",
    "password = \"\".join(pwd) # joins all the letters \n",
    "print(password)"
   ]
  },
  {
   "cell_type": "markdown",
   "id": "d46a4e7b",
   "metadata": {},
   "source": [
    "## GUI random password generator using Tkinter"
   ]
  },
  {
   "cell_type": "code",
   "execution_count": 5,
   "id": "ec87b99e",
   "metadata": {},
   "outputs": [],
   "source": [
    "from tkinter import *\n",
    "import random,string"
   ]
  },
  {
   "cell_type": "code",
   "execution_count": 1,
   "id": "ccbc7bd5",
   "metadata": {},
   "outputs": [
    {
     "name": "stdout",
     "output_type": "stream",
     "text": [
      "Collecting pyperclip\n",
      "  Downloading pyperclip-1.8.2.tar.gz (20 kB)\n",
      "  Installing build dependencies: started\n",
      "  Installing build dependencies: finished with status 'done'\n",
      "  Getting requirements to build wheel: started\n",
      "  Getting requirements to build wheel: finished with status 'done'\n",
      "  Preparing metadata (pyproject.toml): started\n",
      "  Preparing metadata (pyproject.toml): finished with status 'done'\n",
      "Building wheels for collected packages: pyperclip\n",
      "  Building wheel for pyperclip (pyproject.toml): started\n",
      "  Building wheel for pyperclip (pyproject.toml): finished with status 'done'\n",
      "  Created wheel for pyperclip: filename=pyperclip-1.8.2-py3-none-any.whl size=11137 sha256=b210d2f5313b368e5653fadd2d76f6736fc1b2551220382c8b15f3ea30f49dac\n",
      "  Stored in directory: c:\\users\\divya\\appdata\\local\\pip\\cache\\wheels\\70\\bd\\ba\\8ae5c080c895c9360fe6e153acda2dee82527374467eae061b\n",
      "Successfully built pyperclip\n",
      "Installing collected packages: pyperclip\n",
      "Successfully installed pyperclip-1.8.2\n",
      "Note: you may need to restart the kernel to use updated packages.\n"
     ]
    }
   ],
   "source": [
    "pip install pyperclip\n"
   ]
  },
  {
   "cell_type": "code",
   "execution_count": 2,
   "id": "4ff9ba47",
   "metadata": {},
   "outputs": [],
   "source": []
  },
  {
   "cell_type": "code",
   "execution_count": null,
   "id": "86e3873f",
   "metadata": {},
   "outputs": [],
   "source": [
    "from tkinter import *\n",
    "import string\n",
    "import random\n",
    "import pyperclip\n",
    "\n",
    "\n",
    "def generator():\n",
    "    small_alphabets=string.ascii_lowercase\n",
    "    capital_alphabets=string.ascii_uppercase\n",
    "    numbers=string.digits\n",
    "    special_charecters=string.punctuation\n",
    "\n",
    "    all=small_alphabets+capital_alphabets+numbers+special_charecters\n",
    "    password_length=int(length_Box.get())\n",
    "\n",
    "    if choice.get()==1:\n",
    "        passwordField.insert(0,random.sample(small_alphabets,password_length))\n",
    "\n",
    "    if choice.get()==2:\n",
    "        passwordField.insert(0,random.sample(small_alphabets+capital_alphabets,password_length))\n",
    "\n",
    "    if choice.get()==3:\n",
    "        passwordField.insert(0,random.sample(all,password_length))\n",
    "\n",
    "\n",
    "def copy():\n",
    "    random_password=passwordField.get()\n",
    "    pyperclip.copy(random_password)\n",
    "\n",
    "root=Tk()\n",
    "root.config(bg='#f08080')\n",
    "choice=IntVar()\n",
    "Font=('italic',15,'bold')\n",
    "passwordLabel=Label(root,text='Password Generator',font=('times new roman',20,'bold'),bg='#daf7a6',fg='#900c3f')\n",
    "passwordLabel.grid(pady=10)\n",
    "weakradioButton=Radiobutton(root,text='Weak',value=1,variable=choice,font=Font)\n",
    "weakradioButton.grid(pady=5)\n",
    "\n",
    "mediumradioButton=Radiobutton(root,text='Medium',value=2,variable=choice,font=Font)\n",
    "mediumradioButton.grid(pady=5)\n",
    "\n",
    "strongradioButton=Radiobutton(root,text='Strong',value=3,variable=choice,font=Font)\n",
    "strongradioButton.grid(pady=5)\n",
    "\n",
    "lengthLabel=Label(root,text='Password Length',font=Font,bg='#daf7a6',fg='#900c3f')\n",
    "lengthLabel.grid(pady=5)\n",
    "\n",
    "length_Box=Spinbox(root,from_=5,to_=18,width=5,font=Font)\n",
    "length_Box.grid(pady=5)\n",
    "\n",
    "generateButton=Button(root,text='Generate',font=Font,command=generator,bg='#daf7a6',fg='#900c3f')\n",
    "generateButton.grid(pady=5)\n",
    "\n",
    "passwordField=Entry(root,width=25,bd=2,font=Font)\n",
    "passwordField.grid()\n",
    "\n",
    "copyButton=Button(root,text='Copy',font=Font,command=copy,bg='#8b0000',fg='#daf7a6')\n",
    "copyButton.grid(pady=5)\n",
    "\n",
    "root.mainloop()\n",
    "\n",
    "\n"
   ]
  }
 ],
 "metadata": {
  "kernelspec": {
   "display_name": "Python 3 (ipykernel)",
   "language": "python",
   "name": "python3"
  },
  "language_info": {
   "codemirror_mode": {
    "name": "ipython",
    "version": 3
   },
   "file_extension": ".py",
   "mimetype": "text/x-python",
   "name": "python",
   "nbconvert_exporter": "python",
   "pygments_lexer": "ipython3",
   "version": "3.11.3"
  }
 },
 "nbformat": 4,
 "nbformat_minor": 5
}
